{
  "nbformat": 4,
  "nbformat_minor": 0,
  "metadata": {
    "colab": {
      "provenance": []
    },
    "kernelspec": {
      "name": "python3",
      "display_name": "Python 3"
    },
    "language_info": {
      "name": "python"
    }
  },
  "cells": [
    {
      "cell_type": "markdown",
      "source": [
        "#Task I: Setup, Data Importation and Preparation"
      ],
      "metadata": {
        "id": "sJhR2cKJQjmG"
      }
    },
    {
      "cell_type": "markdown",
      "source": [
        "## 1-A. Header"
      ],
      "metadata": {
        "id": "7vCDac_WRNhT"
      }
    },
    {
      "cell_type": "markdown",
      "source": [
        "Title: Association Rule Mining (ARM)\n",
        "\n",
        "Author: Abdulrahman Abed\n",
        "\n",
        "Date: 04/17/2022"
      ],
      "metadata": {
        "id": "a9XqbV07r6L5"
      }
    },
    {
      "cell_type": "markdown",
      "source": [
        "## 1-B. Generate a Table-of-Contents ✅"
      ],
      "metadata": {
        "id": "JzX_lRDVRNZI"
      }
    },
    {
      "cell_type": "markdown",
      "source": [
        "## 1-C. Install Apyori Package"
      ],
      "metadata": {
        "id": "aFsY9gS0RNRA"
      }
    },
    {
      "cell_type": "code",
      "source": [
        "!pip install apyori"
      ],
      "metadata": {
        "colab": {
          "base_uri": "https://localhost:8080/"
        },
        "id": "tS0VkYeas51l",
        "outputId": "b60115de-f17d-435a-9e73-b2fe789e9a31"
      },
      "execution_count": null,
      "outputs": [
        {
          "output_type": "stream",
          "name": "stdout",
          "text": [
            "Requirement already satisfied: apyori in /usr/local/lib/python3.7/dist-packages (1.1.2)\n"
          ]
        }
      ]
    },
    {
      "cell_type": "markdown",
      "source": [
        "## 1-D. Import Packages"
      ],
      "metadata": {
        "id": "uhI-zBsrRNIp"
      }
    },
    {
      "cell_type": "code",
      "source": [
        "# Mathematics and Dataframe Packages\n",
        "import pandas as pd\n",
        "\n",
        "# Google Colab and CSV Packages\n",
        "from google.colab import drive\n",
        "import csv\n",
        "\n",
        "# Graphical Packages\n",
        "from matplotlib import pyplot as plt\n",
        "%matplotlib inline\n",
        "\n",
        "# K-Itemset and Asociation Rules Algorithm Package\n",
        "from apyori import apriori\n",
        "\n",
        "# Suppress Warning Messages\n",
        "import warnings\n",
        "warnings.filterwarnings('ignore')"
      ],
      "metadata": {
        "id": "CaRUY1rXtOOs"
      },
      "execution_count": null,
      "outputs": []
    },
    {
      "cell_type": "markdown",
      "source": [
        "## 1-E. Pre-Defined Parse() Function"
      ],
      "metadata": {
        "id": "7wGDlrjkRNAf"
      }
    },
    {
      "cell_type": "code",
      "source": [
        "# Make a Function to make Apriori Association Rule Results Readable\n",
        "def parse(rules):\n",
        "  # Initialize\n",
        "  i = 0\n",
        "  # Convert Apriori Output to a List\n",
        "  apriori_rules = list(rules)\n",
        "  # Loop Over K-Itemset\n",
        "  for relation_record in apriori_rules:\n",
        "    # Define K-Itemset\n",
        "    itemset = relation_record[0]\n",
        "    # Define Support\n",
        "    support = relation_record[1]\n",
        "    # Define List of Rules Associated with K-Itemset\n",
        "    relation_rules = [x for x in relation_record[2]]\n",
        "    # Loop Over K-Itemset Rules\n",
        "    for rule in relation_rules:\n",
        "        # Assign Rule Number\n",
        "        i += 1\n",
        "        # Get Length of Itemset to Establish \"K\" Value\n",
        "        itemset_length = len(itemset)\n",
        "        # Print K-Itemset\n",
        "        print(str(itemset_length)+\"-Itemset: \"+str(set(itemset)))\n",
        "        # Print Support for K-Itemset\n",
        "        print(\"Support: \"+str(round(relation_record[1],2)))\n",
        "        # Print Particular Association Rule\n",
        "        print(\"Rule \"+str(i)+\": \"+str(set(rule[0]))+\" -> \"+str(set(rule[1])))\n",
        "        # Print Confidence Level of Association Rule\n",
        "        print(\"Confidence: \"+str(round(rule[2],2)))\n",
        "        # Print Lift of Association Rule\n",
        "        print(\"Lift: \"+str(round(rule[3],2)))\n",
        "        # Separate Rules by a Newline Character\n",
        "        print(\"\\n\")"
      ],
      "metadata": {
        "id": "vhXxY4IYteCL"
      },
      "execution_count": null,
      "outputs": []
    },
    {
      "cell_type": "markdown",
      "source": [
        "## 1-F. Read-in the dataset from Google Drive"
      ],
      "metadata": {
        "id": "6tmmyuwbRM4E"
      }
    },
    {
      "cell_type": "code",
      "source": [
        "%%capture\n",
        "from google.colab import drive\n",
        "drive.mount('/content/drive')\n",
        "with open('/content/drive/MyDrive/Data_Sets/Walmart_baskets_1week_lst.csv',newline='') as datafile:\n",
        "  reader = csv.reader(datafile)\n",
        "  walmart_baskets = list(reader)"
      ],
      "metadata": {
        "id": "fXVORUukupT3"
      },
      "execution_count": null,
      "outputs": []
    },
    {
      "cell_type": "markdown",
      "source": [
        "## 1-I. Dataset Length"
      ],
      "metadata": {
        "id": "Yesys9HKRMv1"
      }
    },
    {
      "cell_type": "code",
      "source": [
        "print(\"Length of Dataset: \"+str(len(walmart_baskets)))"
      ],
      "metadata": {
        "colab": {
          "base_uri": "https://localhost:8080/"
        },
        "id": "d9pZewty4U5w",
        "outputId": "062b9a45-499b-455e-dd3b-79c87d367285"
      },
      "execution_count": null,
      "outputs": [
        {
          "output_type": "stream",
          "name": "stdout",
          "text": [
            "Length of Dataset: 2000\n"
          ]
        }
      ]
    },
    {
      "cell_type": "markdown",
      "source": [
        "## 1-H. First Ten List Entries"
      ],
      "metadata": {
        "id": "ylm38xKfRMm1"
      }
    },
    {
      "cell_type": "code",
      "source": [
        "print(\"First Item in Dataset: \"+str(walmart_baskets[0]))\n",
        "print(\"Second Item in Dataset: \"+str(walmart_baskets[1]))\n",
        "print(\"Third Item in Dataset: \"+str(walmart_baskets[2]))\n",
        "print(\"Fourth Item in Dataset: \"+str(walmart_baskets[3]))\n",
        "print(\"Fifth Item in Dataset: \"+str(walmart_baskets[4]))\n",
        "print(\"Sixth Item in Dataset: \"+str(walmart_baskets[5]))\n",
        "print(\"Seventh Item in Dataset: \"+str(walmart_baskets[6]))\n",
        "print(\"Eighth Item in Dataset: \"+str(walmart_baskets[7]))\n",
        "print(\"Ninth Item in Dataset: \"+str(walmart_baskets[8]))\n",
        "print(\"Tenth Item in Dataset: \"+str(walmart_baskets[9]))"
      ],
      "metadata": {
        "colab": {
          "base_uri": "https://localhost:8080/"
        },
        "id": "oCBCtyqL4byb",
        "outputId": "93f13dce-702e-47c7-ffb7-ee35035bfdb1"
      },
      "execution_count": null,
      "outputs": [
        {
          "output_type": "stream",
          "name": "stdout",
          "text": [
            "First Item in Dataset: ['FABRICS AND CRAFTS']\n",
            "Second Item in Dataset: ['HARDWARE', 'PERSONAL CARE', 'PHARMACY OTC']\n",
            "Third Item in Dataset: ['FROZEN FOODS', 'PRODUCE', 'SEAFOOD']\n",
            "Fourth Item in Dataset: ['FROZEN FOODS']\n",
            "Fifth Item in Dataset: ['LADIESWEAR']\n",
            "Sixth Item in Dataset: ['FINANCIAL SERVICES']\n",
            "Seventh Item in Dataset: ['FINANCIAL SERVICES']\n",
            "Eighth Item in Dataset: ['CANDY', ' TOBACCO', ' COOKIES', 'DSD GROCERY', 'HOUSEHOLD PAPER GOODS']\n",
            "Ninth Item in Dataset: ['BEAUTY']\n",
            "Tenth Item in Dataset: ['FINANCIAL SERVICES', 'IMPULSE MERCHANDISE']\n"
          ]
        }
      ]
    },
    {
      "cell_type": "markdown",
      "source": [
        "## 1-I. 20th - 29th List Entries"
      ],
      "metadata": {
        "id": "f2WT_OrcRMds"
      }
    },
    {
      "cell_type": "code",
      "source": [
        "ds_slice = walmart_baskets[20:30]\n",
        "ds_slice"
      ],
      "metadata": {
        "colab": {
          "base_uri": "https://localhost:8080/"
        },
        "id": "UU4iVUX355IK",
        "outputId": "8a0205b7-6685-4392-da33-ff2e9df6dbf6"
      },
      "execution_count": null,
      "outputs": [
        {
          "output_type": "execute_result",
          "data": {
            "text/plain": [
              "[['DAIRY', 'PRE PACKED DELI'],\n",
              " ['DAIRY', 'DSD GROCERY', 'LADIESWEAR'],\n",
              " ['IMPULSE MERCHANDISE', 'INFANT CONSUMABLE HARDLINES', 'SHOES'],\n",
              " ['PERSONAL CARE'],\n",
              " ['GROCERY DRY GOODS'],\n",
              " ['GROCERY DRY GOODS', 'LADIESWEAR', 'PRODUCE'],\n",
              " ['MENS WEAR'],\n",
              " ['IMPULSE MERCHANDISE', 'PERSONAL CARE'],\n",
              " ['AUTOMOTIVE'],\n",
              " ['JEWELRY AND SUNGLASSES']]"
            ]
          },
          "metadata": {},
          "execution_count": 20
        }
      ]
    },
    {
      "cell_type": "markdown",
      "source": [
        "## 1-J. Flattening the dataset to 1D"
      ],
      "metadata": {
        "id": "XKmIsrUJRMU4"
      }
    },
    {
      "cell_type": "code",
      "source": [
        "flattened_ds_dataset = [item for sublist in ds_slice for item in sublist]"
      ],
      "metadata": {
        "id": "AM02adTg6T_B"
      },
      "execution_count": null,
      "outputs": []
    },
    {
      "cell_type": "code",
      "source": [
        "pd.get_dummies(flattened_ds_dataset).sum().sort_values(ascending=False).plot(kind='barh',figsize=(10,10))\n",
        "plt.show()"
      ],
      "metadata": {
        "colab": {
          "base_uri": "https://localhost:8080/",
          "height": 584
        },
        "id": "iet7uh5p6UtL",
        "outputId": "d1889ea1-595b-4f9c-8894-5d1f3023f6e1"
      },
      "execution_count": null,
      "outputs": [
        {
          "output_type": "display_data",
          "data": {
            "text/plain": [
              "<Figure size 720x720 with 1 Axes>"
            ],
            "image/png": "[encoded data removed]"
          },
          "metadata": {
            "needs_background": "light"
          }
        }
      ]
    },
    {
      "cell_type": "markdown",
      "source": [
        "#Task II: Apriori - Part 1"
      ],
      "metadata": {
        "id": "igmMmegWQmx1"
      }
    },
    {
      "cell_type": "markdown",
      "source": [
        "## 2-A. Apriori()"
      ],
      "metadata": {
        "id": "6YrZhXw3R8gZ"
      }
    },
    {
      "cell_type": "code",
      "source": [
        "# Obtain a Collection of K-Itemsets and their Association Rules\n",
        "association_rules = apriori(walmart_baskets,min_support=0.06,min_confidence=0.19,min_lift=1.01)\n",
        "# Convert the Apriori Generator Datatype to a List for Processing\n",
        "association_results = list(association_rules)\n",
        "# Display to Become Familiar with Results\n",
        "association_results"
      ],
      "metadata": {
        "colab": {
          "base_uri": "https://localhost:8080/"
        },
        "id": "pL93xsYt7NeL",
        "outputId": "be7b0835-74de-48b7-9f38-61eb5982f019"
      },
      "execution_count": null,
      "outputs": [
        {
          "output_type": "execute_result",
          "data": {
            "text/plain": [
              "[RelationRecord(items=frozenset({' COOKIES', ' TOBACCO'}), support=0.07, ordered_statistics=[OrderedStatistic(items_base=frozenset({' COOKIES'}), items_add=frozenset({' TOBACCO'}), confidence=1.0, lift=14.285714285714285), OrderedStatistic(items_base=frozenset({' TOBACCO'}), items_add=frozenset({' COOKIES'}), confidence=1.0, lift=14.285714285714285)]),\n",
              " RelationRecord(items=frozenset({' COOKIES', 'CANDY'}), support=0.07, ordered_statistics=[OrderedStatistic(items_base=frozenset({' COOKIES'}), items_add=frozenset({'CANDY'}), confidence=1.0, lift=14.285714285714285), OrderedStatistic(items_base=frozenset({'CANDY'}), items_add=frozenset({' COOKIES'}), confidence=1.0, lift=14.285714285714285)]),\n",
              " RelationRecord(items=frozenset({' TOBACCO', 'CANDY'}), support=0.07, ordered_statistics=[OrderedStatistic(items_base=frozenset({' TOBACCO'}), items_add=frozenset({'CANDY'}), confidence=1.0, lift=14.285714285714285), OrderedStatistic(items_base=frozenset({'CANDY'}), items_add=frozenset({' TOBACCO'}), confidence=1.0, lift=14.285714285714285)]),\n",
              " RelationRecord(items=frozenset({'DAIRY', 'COMM BREAD'}), support=0.065, ordered_statistics=[OrderedStatistic(items_base=frozenset({'COMM BREAD'}), items_add=frozenset({'DAIRY'}), confidence=0.6190476190476191, lift=3.2242063492063493), OrderedStatistic(items_base=frozenset({'DAIRY'}), items_add=frozenset({'COMM BREAD'}), confidence=0.3385416666666667, lift=3.2242063492063493)]),\n",
              " RelationRecord(items=frozenset({'DSD GROCERY', 'COMM BREAD'}), support=0.0735, ordered_statistics=[OrderedStatistic(items_base=frozenset({'COMM BREAD'}), items_add=frozenset({'DSD GROCERY'}), confidence=0.7, lift=2.287581699346405), OrderedStatistic(items_base=frozenset({'DSD GROCERY'}), items_add=frozenset({'COMM BREAD'}), confidence=0.24019607843137253, lift=2.287581699346405)]),\n",
              " RelationRecord(items=frozenset({'GROCERY DRY GOODS', 'COMM BREAD'}), support=0.0765, ordered_statistics=[OrderedStatistic(items_base=frozenset({'COMM BREAD'}), items_add=frozenset({'GROCERY DRY GOODS'}), confidence=0.7285714285714285, lift=3.3652259980204553), OrderedStatistic(items_base=frozenset({'GROCERY DRY GOODS'}), items_add=frozenset({'COMM BREAD'}), confidence=0.3533487297921478, lift=3.3652259980204557)]),\n",
              " RelationRecord(items=frozenset({'DAIRY', 'DSD GROCERY'}), support=0.1225, ordered_statistics=[OrderedStatistic(items_base=frozenset({'DAIRY'}), items_add=frozenset({'DSD GROCERY'}), confidence=0.6380208333333333, lift=2.085035403050109), OrderedStatistic(items_base=frozenset({'DSD GROCERY'}), items_add=frozenset({'DAIRY'}), confidence=0.40032679738562094, lift=2.085035403050109)]),\n",
              " RelationRecord(items=frozenset({'DAIRY', 'FROZEN FOODS'}), support=0.062, ordered_statistics=[OrderedStatistic(items_base=frozenset({'DAIRY'}), items_add=frozenset({'FROZEN FOODS'}), confidence=0.3229166666666667, lift=3.1814449917898195), OrderedStatistic(items_base=frozenset({'FROZEN FOODS'}), items_add=frozenset({'DAIRY'}), confidence=0.6108374384236452, lift=3.181444991789819)]),\n",
              " RelationRecord(items=frozenset({'DAIRY', 'GROCERY DRY GOODS'}), support=0.117, ordered_statistics=[OrderedStatistic(items_base=frozenset({'DAIRY'}), items_add=frozenset({'GROCERY DRY GOODS'}), confidence=0.609375, lift=2.814665127020785), OrderedStatistic(items_base=frozenset({'GROCERY DRY GOODS'}), items_add=frozenset({'DAIRY'}), confidence=0.5404157043879908, lift=2.814665127020785)]),\n",
              " RelationRecord(items=frozenset({'DAIRY', 'PRODUCE'}), support=0.098, ordered_statistics=[OrderedStatistic(items_base=frozenset({'DAIRY'}), items_add=frozenset({'PRODUCE'}), confidence=0.5104166666666666, lift=2.6446459412780654), OrderedStatistic(items_base=frozenset({'PRODUCE'}), items_add=frozenset({'DAIRY'}), confidence=0.5077720207253886, lift=2.644645941278066)]),\n",
              " RelationRecord(items=frozenset({'FROZEN FOODS', 'DSD GROCERY'}), support=0.0725, ordered_statistics=[OrderedStatistic(items_base=frozenset({'DSD GROCERY'}), items_add=frozenset({'FROZEN FOODS'}), confidence=0.2369281045751634, lift=2.334267040149393), OrderedStatistic(items_base=frozenset({'FROZEN FOODS'}), items_add=frozenset({'DSD GROCERY'}), confidence=0.7142857142857142, lift=2.334267040149393)]),\n",
              " RelationRecord(items=frozenset({'DSD GROCERY', 'GROCERY DRY GOODS'}), support=0.1305, ordered_statistics=[OrderedStatistic(items_base=frozenset({'DSD GROCERY'}), items_add=frozenset({'GROCERY DRY GOODS'}), confidence=0.42647058823529416, lift=1.9698410542045919), OrderedStatistic(items_base=frozenset({'GROCERY DRY GOODS'}), items_add=frozenset({'DSD GROCERY'}), confidence=0.6027713625866051, lift=1.9698410542045919)]),\n",
              " RelationRecord(items=frozenset({'DSD GROCERY', 'HOUSEHOLD CHEMICALS/SUPP'}), support=0.0655, ordered_statistics=[OrderedStatistic(items_base=frozenset({'DSD GROCERY'}), items_add=frozenset({'HOUSEHOLD CHEMICALS/SUPP'}), confidence=0.21405228758169936, lift=1.769027170096689), OrderedStatistic(items_base=frozenset({'HOUSEHOLD CHEMICALS/SUPP'}), items_add=frozenset({'DSD GROCERY'}), confidence=0.5413223140495869, lift=1.769027170096689)]),\n",
              " RelationRecord(items=frozenset({'HOUSEHOLD PAPER GOODS', 'DSD GROCERY'}), support=0.062, ordered_statistics=[OrderedStatistic(items_base=frozenset({'DSD GROCERY'}), items_add=frozenset({'HOUSEHOLD PAPER GOODS'}), confidence=0.20261437908496732, lift=2.202330207445297), OrderedStatistic(items_base=frozenset({'HOUSEHOLD PAPER GOODS'}), items_add=frozenset({'DSD GROCERY'}), confidence=0.6739130434782609, lift=2.202330207445297)]),\n",
              " RelationRecord(items=frozenset({'DSD GROCERY', 'IMPULSE MERCHANDISE'}), support=0.0795, ordered_statistics=[OrderedStatistic(items_base=frozenset({'DSD GROCERY'}), items_add=frozenset({'IMPULSE MERCHANDISE'}), confidence=0.25980392156862747, lift=1.255091408544094), OrderedStatistic(items_base=frozenset({'IMPULSE MERCHANDISE'}), items_add=frozenset({'DSD GROCERY'}), confidence=0.3840579710144928, lift=1.255091408544094)]),\n",
              " RelationRecord(items=frozenset({'DSD GROCERY', 'PERSONAL CARE'}), support=0.077, ordered_statistics=[OrderedStatistic(items_base=frozenset({'DSD GROCERY'}), items_add=frozenset({'PERSONAL CARE'}), confidence=0.25163398692810457, lift=1.3456362937331796), OrderedStatistic(items_base=frozenset({'PERSONAL CARE'}), items_add=frozenset({'DSD GROCERY'}), confidence=0.4117647058823529, lift=1.3456362937331796)]),\n",
              " RelationRecord(items=frozenset({'DSD GROCERY', 'PRODUCE'}), support=0.107, ordered_statistics=[OrderedStatistic(items_base=frozenset({'DSD GROCERY'}), items_add=frozenset({'PRODUCE'}), confidence=0.34967320261437906, lift=1.8117782518879744), OrderedStatistic(items_base=frozenset({'PRODUCE'}), items_add=frozenset({'DSD GROCERY'}), confidence=0.5544041450777202, lift=1.8117782518879744)]),\n",
              " RelationRecord(items=frozenset({'FROZEN FOODS', 'GROCERY DRY GOODS'}), support=0.0635, ordered_statistics=[OrderedStatistic(items_base=frozenset({'FROZEN FOODS'}), items_add=frozenset({'GROCERY DRY GOODS'}), confidence=0.625615763546798, lift=2.889680201139945), OrderedStatistic(items_base=frozenset({'GROCERY DRY GOODS'}), items_add=frozenset({'FROZEN FOODS'}), confidence=0.2933025404157044, lift=2.889680201139945)]),\n",
              " RelationRecord(items=frozenset({'PRODUCE', 'GROCERY DRY GOODS'}), support=0.1035, ordered_statistics=[OrderedStatistic(items_base=frozenset({'GROCERY DRY GOODS'}), items_add=frozenset({'PRODUCE'}), confidence=0.4780600461893764, lift=2.4769950579760436), OrderedStatistic(items_base=frozenset({'PRODUCE'}), items_add=frozenset({'GROCERY DRY GOODS'}), confidence=0.5362694300518134, lift=2.476995057976043)]),\n",
              " RelationRecord(items=frozenset({'PHARMACY OTC', 'PERSONAL CARE'}), support=0.062, ordered_statistics=[OrderedStatistic(items_base=frozenset({'PERSONAL CARE'}), items_add=frozenset({'PHARMACY OTC'}), confidence=0.3315508021390374, lift=2.3266722957125436), OrderedStatistic(items_base=frozenset({'PHARMACY OTC'}), items_add=frozenset({'PERSONAL CARE'}), confidence=0.43508771929824563, lift=2.3266722957125436)]),\n",
              " RelationRecord(items=frozenset({' COOKIES', ' TOBACCO', 'CANDY'}), support=0.07, ordered_statistics=[OrderedStatistic(items_base=frozenset({' COOKIES'}), items_add=frozenset({' TOBACCO', 'CANDY'}), confidence=1.0, lift=14.285714285714285), OrderedStatistic(items_base=frozenset({' TOBACCO'}), items_add=frozenset({' COOKIES', 'CANDY'}), confidence=1.0, lift=14.285714285714285), OrderedStatistic(items_base=frozenset({'CANDY'}), items_add=frozenset({' COOKIES', ' TOBACCO'}), confidence=1.0, lift=14.285714285714285), OrderedStatistic(items_base=frozenset({' COOKIES', ' TOBACCO'}), items_add=frozenset({'CANDY'}), confidence=1.0, lift=14.285714285714285), OrderedStatistic(items_base=frozenset({' COOKIES', 'CANDY'}), items_add=frozenset({' TOBACCO'}), confidence=1.0, lift=14.285714285714285), OrderedStatistic(items_base=frozenset({' TOBACCO', 'CANDY'}), items_add=frozenset({' COOKIES'}), confidence=1.0, lift=14.285714285714285)]),\n",
              " RelationRecord(items=frozenset({'DAIRY', 'DSD GROCERY', 'GROCERY DRY GOODS'}), support=0.09, ordered_statistics=[OrderedStatistic(items_base=frozenset({'DAIRY'}), items_add=frozenset({'DSD GROCERY', 'GROCERY DRY GOODS'}), confidence=0.46875, lift=3.5919540229885056), OrderedStatistic(items_base=frozenset({'DSD GROCERY'}), items_add=frozenset({'DAIRY', 'GROCERY DRY GOODS'}), confidence=0.29411764705882354, lift=2.513826043237808), OrderedStatistic(items_base=frozenset({'GROCERY DRY GOODS'}), items_add=frozenset({'DAIRY', 'DSD GROCERY'}), confidence=0.4157043879907621, lift=3.393505208087854), OrderedStatistic(items_base=frozenset({'DAIRY', 'DSD GROCERY'}), items_add=frozenset({'GROCERY DRY GOODS'}), confidence=0.7346938775510204, lift=3.3935052080878543), OrderedStatistic(items_base=frozenset({'DAIRY', 'GROCERY DRY GOODS'}), items_add=frozenset({'DSD GROCERY'}), confidence=0.7692307692307692, lift=2.513826043237808), OrderedStatistic(items_base=frozenset({'DSD GROCERY', 'GROCERY DRY GOODS'}), items_add=frozenset({'DAIRY'}), confidence=0.689655172413793, lift=3.591954022988505)]),\n",
              " RelationRecord(items=frozenset({'DAIRY', 'DSD GROCERY', 'PRODUCE'}), support=0.0705, ordered_statistics=[OrderedStatistic(items_base=frozenset({'DAIRY'}), items_add=frozenset({'DSD GROCERY', 'PRODUCE'}), confidence=0.36718749999999994, lift=3.4316588785046727), OrderedStatistic(items_base=frozenset({'DSD GROCERY'}), items_add=frozenset({'DAIRY', 'PRODUCE'}), confidence=0.23039215686274508, lift=2.35094037615046), OrderedStatistic(items_base=frozenset({'PRODUCE'}), items_add=frozenset({'DAIRY', 'DSD GROCERY'}), confidence=0.3652849740932642, lift=2.9819181558633816), OrderedStatistic(items_base=frozenset({'DAIRY', 'DSD GROCERY'}), items_add=frozenset({'PRODUCE'}), confidence=0.5755102040816326, lift=2.981918155863381), OrderedStatistic(items_base=frozenset({'DAIRY', 'PRODUCE'}), items_add=frozenset({'DSD GROCERY'}), confidence=0.7193877551020407, lift=2.3509403761504597), OrderedStatistic(items_base=frozenset({'DSD GROCERY', 'PRODUCE'}), items_add=frozenset({'DAIRY'}), confidence=0.6588785046728971, lift=3.431658878504672)]),\n",
              " RelationRecord(items=frozenset({'DAIRY', 'PRODUCE', 'GROCERY DRY GOODS'}), support=0.0715, ordered_statistics=[OrderedStatistic(items_base=frozenset({'DAIRY'}), items_add=frozenset({'PRODUCE', 'GROCERY DRY GOODS'}), confidence=0.3723958333333333, lift=3.5980273752012883), OrderedStatistic(items_base=frozenset({'GROCERY DRY GOODS'}), items_add=frozenset({'DAIRY', 'PRODUCE'}), confidence=0.33025404157043875, lift=3.3699391996983543), OrderedStatistic(items_base=frozenset({'PRODUCE'}), items_add=frozenset({'DAIRY', 'GROCERY DRY GOODS'}), confidence=0.3704663212435233, lift=3.1663788140472073), OrderedStatistic(items_base=frozenset({'DAIRY', 'GROCERY DRY GOODS'}), items_add=frozenset({'PRODUCE'}), confidence=0.611111111111111, lift=3.1663788140472073), OrderedStatistic(items_base=frozenset({'DAIRY', 'PRODUCE'}), items_add=frozenset({'GROCERY DRY GOODS'}), confidence=0.7295918367346937, lift=3.3699391996983543), OrderedStatistic(items_base=frozenset({'PRODUCE', 'GROCERY DRY GOODS'}), items_add=frozenset({'DAIRY'}), confidence=0.6908212560386473, lift=3.598027375201288)]),\n",
              " RelationRecord(items=frozenset({'DSD GROCERY', 'PRODUCE', 'GROCERY DRY GOODS'}), support=0.0725, ordered_statistics=[OrderedStatistic(items_base=frozenset({'DSD GROCERY'}), items_add=frozenset({'PRODUCE', 'GROCERY DRY GOODS'}), confidence=0.2369281045751634, lift=2.2891604306779074), OrderedStatistic(items_base=frozenset({'GROCERY DRY GOODS'}), items_add=frozenset({'DSD GROCERY', 'PRODUCE'}), confidence=0.3348729792147806, lift=3.12965401135309), OrderedStatistic(items_base=frozenset({'PRODUCE'}), items_add=frozenset({'DSD GROCERY', 'GROCERY DRY GOODS'}), confidence=0.37564766839378233, lift=2.8785261945883702), OrderedStatistic(items_base=frozenset({'DSD GROCERY', 'GROCERY DRY GOODS'}), items_add=frozenset({'PRODUCE'}), confidence=0.5555555555555555, lift=2.8785261945883702), OrderedStatistic(items_base=frozenset({'DSD GROCERY', 'PRODUCE'}), items_add=frozenset({'GROCERY DRY GOODS'}), confidence=0.677570093457944, lift=3.12965401135309), OrderedStatistic(items_base=frozenset({'PRODUCE', 'GROCERY DRY GOODS'}), items_add=frozenset({'DSD GROCERY'}), confidence=0.7004830917874396, lift=2.2891604306779074)])]"
            ]
          },
          "metadata": {},
          "execution_count": 39
        }
      ]
    },
    {
      "cell_type": "markdown",
      "source": [
        "## 2-B. Parse()"
      ],
      "metadata": {
        "id": "mBu3xxVDR8Wj"
      }
    },
    {
      "cell_type": "code",
      "source": [
        "# Name the Results of the Apriori Algorithm\n",
        "association_rules = apriori(walmart_baskets,min_support=0.06,min_confidence=0.19,min_lift=1.01)\n",
        "# Call the Pre-Defined Parse Function from Demonstration I. Pass the Results of the Apriori Algorithm as its Argument.\n",
        "parse(association_rules)"
      ],
      "metadata": {
        "colab": {
          "base_uri": "https://localhost:8080/"
        },
        "id": "bIJtTHFz7m_q",
        "outputId": "e793e5bc-00e5-472b-faa2-bfe9399b5a6a"
      },
      "execution_count": null,
      "outputs": [
        {
          "output_type": "stream",
          "name": "stdout",
          "text": [
            "2-Itemset: {' COOKIES', ' TOBACCO'}\n",
            "Support: 0.07\n",
            "Rule 1: {' COOKIES'} -> {' TOBACCO'}\n",
            "Confidence: 1.0\n",
            "Lift: 14.29\n",
            "\n",
            "\n",
            "2-Itemset: {' COOKIES', ' TOBACCO'}\n",
            "Support: 0.07\n",
            "Rule 2: {' TOBACCO'} -> {' COOKIES'}\n",
            "Confidence: 1.0\n",
            "Lift: 14.29\n",
            "\n",
            "\n",
            "2-Itemset: {' COOKIES', 'CANDY'}\n",
            "Support: 0.07\n",
            "Rule 3: {' COOKIES'} -> {'CANDY'}\n",
            "Confidence: 1.0\n",
            "Lift: 14.29\n",
            "\n",
            "\n",
            "2-Itemset: {' COOKIES', 'CANDY'}\n",
            "Support: 0.07\n",
            "Rule 4: {'CANDY'} -> {' COOKIES'}\n",
            "Confidence: 1.0\n",
            "Lift: 14.29\n",
            "\n",
            "\n",
            "2-Itemset: {' TOBACCO', 'CANDY'}\n",
            "Support: 0.07\n",
            "Rule 5: {' TOBACCO'} -> {'CANDY'}\n",
            "Confidence: 1.0\n",
            "Lift: 14.29\n",
            "\n",
            "\n",
            "2-Itemset: {' TOBACCO', 'CANDY'}\n",
            "Support: 0.07\n",
            "Rule 6: {'CANDY'} -> {' TOBACCO'}\n",
            "Confidence: 1.0\n",
            "Lift: 14.29\n",
            "\n",
            "\n",
            "2-Itemset: {'DAIRY', 'COMM BREAD'}\n",
            "Support: 0.07\n",
            "Rule 7: {'COMM BREAD'} -> {'DAIRY'}\n",
            "Confidence: 0.62\n",
            "Lift: 3.22\n",
            "\n",
            "\n",
            "2-Itemset: {'DAIRY', 'COMM BREAD'}\n",
            "Support: 0.07\n",
            "Rule 8: {'DAIRY'} -> {'COMM BREAD'}\n",
            "Confidence: 0.34\n",
            "Lift: 3.22\n",
            "\n",
            "\n",
            "2-Itemset: {'DSD GROCERY', 'COMM BREAD'}\n",
            "Support: 0.07\n",
            "Rule 9: {'COMM BREAD'} -> {'DSD GROCERY'}\n",
            "Confidence: 0.7\n",
            "Lift: 2.29\n",
            "\n",
            "\n",
            "2-Itemset: {'DSD GROCERY', 'COMM BREAD'}\n",
            "Support: 0.07\n",
            "Rule 10: {'DSD GROCERY'} -> {'COMM BREAD'}\n",
            "Confidence: 0.24\n",
            "Lift: 2.29\n",
            "\n",
            "\n",
            "2-Itemset: {'GROCERY DRY GOODS', 'COMM BREAD'}\n",
            "Support: 0.08\n",
            "Rule 11: {'COMM BREAD'} -> {'GROCERY DRY GOODS'}\n",
            "Confidence: 0.73\n",
            "Lift: 3.37\n",
            "\n",
            "\n",
            "2-Itemset: {'GROCERY DRY GOODS', 'COMM BREAD'}\n",
            "Support: 0.08\n",
            "Rule 12: {'GROCERY DRY GOODS'} -> {'COMM BREAD'}\n",
            "Confidence: 0.35\n",
            "Lift: 3.37\n",
            "\n",
            "\n",
            "2-Itemset: {'DAIRY', 'DSD GROCERY'}\n",
            "Support: 0.12\n",
            "Rule 13: {'DAIRY'} -> {'DSD GROCERY'}\n",
            "Confidence: 0.64\n",
            "Lift: 2.09\n",
            "\n",
            "\n",
            "2-Itemset: {'DAIRY', 'DSD GROCERY'}\n",
            "Support: 0.12\n",
            "Rule 14: {'DSD GROCERY'} -> {'DAIRY'}\n",
            "Confidence: 0.4\n",
            "Lift: 2.09\n",
            "\n",
            "\n",
            "2-Itemset: {'DAIRY', 'FROZEN FOODS'}\n",
            "Support: 0.06\n",
            "Rule 15: {'DAIRY'} -> {'FROZEN FOODS'}\n",
            "Confidence: 0.32\n",
            "Lift: 3.18\n",
            "\n",
            "\n",
            "2-Itemset: {'DAIRY', 'FROZEN FOODS'}\n",
            "Support: 0.06\n",
            "Rule 16: {'FROZEN FOODS'} -> {'DAIRY'}\n",
            "Confidence: 0.61\n",
            "Lift: 3.18\n",
            "\n",
            "\n",
            "2-Itemset: {'DAIRY', 'GROCERY DRY GOODS'}\n",
            "Support: 0.12\n",
            "Rule 17: {'DAIRY'} -> {'GROCERY DRY GOODS'}\n",
            "Confidence: 0.61\n",
            "Lift: 2.81\n",
            "\n",
            "\n",
            "2-Itemset: {'DAIRY', 'GROCERY DRY GOODS'}\n",
            "Support: 0.12\n",
            "Rule 18: {'GROCERY DRY GOODS'} -> {'DAIRY'}\n",
            "Confidence: 0.54\n",
            "Lift: 2.81\n",
            "\n",
            "\n",
            "2-Itemset: {'DAIRY', 'PRODUCE'}\n",
            "Support: 0.1\n",
            "Rule 19: {'DAIRY'} -> {'PRODUCE'}\n",
            "Confidence: 0.51\n",
            "Lift: 2.64\n",
            "\n",
            "\n",
            "2-Itemset: {'DAIRY', 'PRODUCE'}\n",
            "Support: 0.1\n",
            "Rule 20: {'PRODUCE'} -> {'DAIRY'}\n",
            "Confidence: 0.51\n",
            "Lift: 2.64\n",
            "\n",
            "\n",
            "2-Itemset: {'FROZEN FOODS', 'DSD GROCERY'}\n",
            "Support: 0.07\n",
            "Rule 21: {'DSD GROCERY'} -> {'FROZEN FOODS'}\n",
            "Confidence: 0.24\n",
            "Lift: 2.33\n",
            "\n",
            "\n",
            "2-Itemset: {'FROZEN FOODS', 'DSD GROCERY'}\n",
            "Support: 0.07\n",
            "Rule 22: {'FROZEN FOODS'} -> {'DSD GROCERY'}\n",
            "Confidence: 0.71\n",
            "Lift: 2.33\n",
            "\n",
            "\n",
            "2-Itemset: {'DSD GROCERY', 'GROCERY DRY GOODS'}\n",
            "Support: 0.13\n",
            "Rule 23: {'DSD GROCERY'} -> {'GROCERY DRY GOODS'}\n",
            "Confidence: 0.43\n",
            "Lift: 1.97\n",
            "\n",
            "\n",
            "2-Itemset: {'DSD GROCERY', 'GROCERY DRY GOODS'}\n",
            "Support: 0.13\n",
            "Rule 24: {'GROCERY DRY GOODS'} -> {'DSD GROCERY'}\n",
            "Confidence: 0.6\n",
            "Lift: 1.97\n",
            "\n",
            "\n",
            "2-Itemset: {'DSD GROCERY', 'HOUSEHOLD CHEMICALS/SUPP'}\n",
            "Support: 0.07\n",
            "Rule 25: {'DSD GROCERY'} -> {'HOUSEHOLD CHEMICALS/SUPP'}\n",
            "Confidence: 0.21\n",
            "Lift: 1.77\n",
            "\n",
            "\n",
            "2-Itemset: {'DSD GROCERY', 'HOUSEHOLD CHEMICALS/SUPP'}\n",
            "Support: 0.07\n",
            "Rule 26: {'HOUSEHOLD CHEMICALS/SUPP'} -> {'DSD GROCERY'}\n",
            "Confidence: 0.54\n",
            "Lift: 1.77\n",
            "\n",
            "\n",
            "2-Itemset: {'HOUSEHOLD PAPER GOODS', 'DSD GROCERY'}\n",
            "Support: 0.06\n",
            "Rule 27: {'DSD GROCERY'} -> {'HOUSEHOLD PAPER GOODS'}\n",
            "Confidence: 0.2\n",
            "Lift: 2.2\n",
            "\n",
            "\n",
            "2-Itemset: {'HOUSEHOLD PAPER GOODS', 'DSD GROCERY'}\n",
            "Support: 0.06\n",
            "Rule 28: {'HOUSEHOLD PAPER GOODS'} -> {'DSD GROCERY'}\n",
            "Confidence: 0.67\n",
            "Lift: 2.2\n",
            "\n",
            "\n",
            "2-Itemset: {'DSD GROCERY', 'IMPULSE MERCHANDISE'}\n",
            "Support: 0.08\n",
            "Rule 29: {'DSD GROCERY'} -> {'IMPULSE MERCHANDISE'}\n",
            "Confidence: 0.26\n",
            "Lift: 1.26\n",
            "\n",
            "\n",
            "2-Itemset: {'DSD GROCERY', 'IMPULSE MERCHANDISE'}\n",
            "Support: 0.08\n",
            "Rule 30: {'IMPULSE MERCHANDISE'} -> {'DSD GROCERY'}\n",
            "Confidence: 0.38\n",
            "Lift: 1.26\n",
            "\n",
            "\n",
            "2-Itemset: {'DSD GROCERY', 'PERSONAL CARE'}\n",
            "Support: 0.08\n",
            "Rule 31: {'DSD GROCERY'} -> {'PERSONAL CARE'}\n",
            "Confidence: 0.25\n",
            "Lift: 1.35\n",
            "\n",
            "\n",
            "2-Itemset: {'DSD GROCERY', 'PERSONAL CARE'}\n",
            "Support: 0.08\n",
            "Rule 32: {'PERSONAL CARE'} -> {'DSD GROCERY'}\n",
            "Confidence: 0.41\n",
            "Lift: 1.35\n",
            "\n",
            "\n",
            "2-Itemset: {'DSD GROCERY', 'PRODUCE'}\n",
            "Support: 0.11\n",
            "Rule 33: {'DSD GROCERY'} -> {'PRODUCE'}\n",
            "Confidence: 0.35\n",
            "Lift: 1.81\n",
            "\n",
            "\n",
            "2-Itemset: {'DSD GROCERY', 'PRODUCE'}\n",
            "Support: 0.11\n",
            "Rule 34: {'PRODUCE'} -> {'DSD GROCERY'}\n",
            "Confidence: 0.55\n",
            "Lift: 1.81\n",
            "\n",
            "\n",
            "2-Itemset: {'FROZEN FOODS', 'GROCERY DRY GOODS'}\n",
            "Support: 0.06\n",
            "Rule 35: {'FROZEN FOODS'} -> {'GROCERY DRY GOODS'}\n",
            "Confidence: 0.63\n",
            "Lift: 2.89\n",
            "\n",
            "\n",
            "2-Itemset: {'FROZEN FOODS', 'GROCERY DRY GOODS'}\n",
            "Support: 0.06\n",
            "Rule 36: {'GROCERY DRY GOODS'} -> {'FROZEN FOODS'}\n",
            "Confidence: 0.29\n",
            "Lift: 2.89\n",
            "\n",
            "\n",
            "2-Itemset: {'PRODUCE', 'GROCERY DRY GOODS'}\n",
            "Support: 0.1\n",
            "Rule 37: {'GROCERY DRY GOODS'} -> {'PRODUCE'}\n",
            "Confidence: 0.48\n",
            "Lift: 2.48\n",
            "\n",
            "\n",
            "2-Itemset: {'PRODUCE', 'GROCERY DRY GOODS'}\n",
            "Support: 0.1\n",
            "Rule 38: {'PRODUCE'} -> {'GROCERY DRY GOODS'}\n",
            "Confidence: 0.54\n",
            "Lift: 2.48\n",
            "\n",
            "\n",
            "2-Itemset: {'PHARMACY OTC', 'PERSONAL CARE'}\n",
            "Support: 0.06\n",
            "Rule 39: {'PERSONAL CARE'} -> {'PHARMACY OTC'}\n",
            "Confidence: 0.33\n",
            "Lift: 2.33\n",
            "\n",
            "\n",
            "2-Itemset: {'PHARMACY OTC', 'PERSONAL CARE'}\n",
            "Support: 0.06\n",
            "Rule 40: {'PHARMACY OTC'} -> {'PERSONAL CARE'}\n",
            "Confidence: 0.44\n",
            "Lift: 2.33\n",
            "\n",
            "\n",
            "3-Itemset: {' COOKIES', ' TOBACCO', 'CANDY'}\n",
            "Support: 0.07\n",
            "Rule 41: {' COOKIES'} -> {' TOBACCO', 'CANDY'}\n",
            "Confidence: 1.0\n",
            "Lift: 14.29\n",
            "\n",
            "\n",
            "3-Itemset: {' COOKIES', ' TOBACCO', 'CANDY'}\n",
            "Support: 0.07\n",
            "Rule 42: {' TOBACCO'} -> {' COOKIES', 'CANDY'}\n",
            "Confidence: 1.0\n",
            "Lift: 14.29\n",
            "\n",
            "\n",
            "3-Itemset: {' COOKIES', ' TOBACCO', 'CANDY'}\n",
            "Support: 0.07\n",
            "Rule 43: {'CANDY'} -> {' COOKIES', ' TOBACCO'}\n",
            "Confidence: 1.0\n",
            "Lift: 14.29\n",
            "\n",
            "\n",
            "3-Itemset: {' COOKIES', ' TOBACCO', 'CANDY'}\n",
            "Support: 0.07\n",
            "Rule 44: {' COOKIES', ' TOBACCO'} -> {'CANDY'}\n",
            "Confidence: 1.0\n",
            "Lift: 14.29\n",
            "\n",
            "\n",
            "3-Itemset: {' COOKIES', ' TOBACCO', 'CANDY'}\n",
            "Support: 0.07\n",
            "Rule 45: {' COOKIES', 'CANDY'} -> {' TOBACCO'}\n",
            "Confidence: 1.0\n",
            "Lift: 14.29\n",
            "\n",
            "\n",
            "3-Itemset: {' COOKIES', ' TOBACCO', 'CANDY'}\n",
            "Support: 0.07\n",
            "Rule 46: {' TOBACCO', 'CANDY'} -> {' COOKIES'}\n",
            "Confidence: 1.0\n",
            "Lift: 14.29\n",
            "\n",
            "\n",
            "3-Itemset: {'DAIRY', 'DSD GROCERY', 'GROCERY DRY GOODS'}\n",
            "Support: 0.09\n",
            "Rule 47: {'DAIRY'} -> {'DSD GROCERY', 'GROCERY DRY GOODS'}\n",
            "Confidence: 0.47\n",
            "Lift: 3.59\n",
            "\n",
            "\n",
            "3-Itemset: {'DAIRY', 'DSD GROCERY', 'GROCERY DRY GOODS'}\n",
            "Support: 0.09\n",
            "Rule 48: {'DSD GROCERY'} -> {'DAIRY', 'GROCERY DRY GOODS'}\n",
            "Confidence: 0.29\n",
            "Lift: 2.51\n",
            "\n",
            "\n",
            "3-Itemset: {'DAIRY', 'DSD GROCERY', 'GROCERY DRY GOODS'}\n",
            "Support: 0.09\n",
            "Rule 49: {'GROCERY DRY GOODS'} -> {'DAIRY', 'DSD GROCERY'}\n",
            "Confidence: 0.42\n",
            "Lift: 3.39\n",
            "\n",
            "\n",
            "3-Itemset: {'DAIRY', 'DSD GROCERY', 'GROCERY DRY GOODS'}\n",
            "Support: 0.09\n",
            "Rule 50: {'DAIRY', 'DSD GROCERY'} -> {'GROCERY DRY GOODS'}\n",
            "Confidence: 0.73\n",
            "Lift: 3.39\n",
            "\n",
            "\n",
            "3-Itemset: {'DAIRY', 'DSD GROCERY', 'GROCERY DRY GOODS'}\n",
            "Support: 0.09\n",
            "Rule 51: {'DAIRY', 'GROCERY DRY GOODS'} -> {'DSD GROCERY'}\n",
            "Confidence: 0.77\n",
            "Lift: 2.51\n",
            "\n",
            "\n",
            "3-Itemset: {'DAIRY', 'DSD GROCERY', 'GROCERY DRY GOODS'}\n",
            "Support: 0.09\n",
            "Rule 52: {'DSD GROCERY', 'GROCERY DRY GOODS'} -> {'DAIRY'}\n",
            "Confidence: 0.69\n",
            "Lift: 3.59\n",
            "\n",
            "\n",
            "3-Itemset: {'DAIRY', 'DSD GROCERY', 'PRODUCE'}\n",
            "Support: 0.07\n",
            "Rule 53: {'DAIRY'} -> {'DSD GROCERY', 'PRODUCE'}\n",
            "Confidence: 0.37\n",
            "Lift: 3.43\n",
            "\n",
            "\n",
            "3-Itemset: {'DAIRY', 'DSD GROCERY', 'PRODUCE'}\n",
            "Support: 0.07\n",
            "Rule 54: {'DSD GROCERY'} -> {'DAIRY', 'PRODUCE'}\n",
            "Confidence: 0.23\n",
            "Lift: 2.35\n",
            "\n",
            "\n",
            "3-Itemset: {'DAIRY', 'DSD GROCERY', 'PRODUCE'}\n",
            "Support: 0.07\n",
            "Rule 55: {'PRODUCE'} -> {'DAIRY', 'DSD GROCERY'}\n",
            "Confidence: 0.37\n",
            "Lift: 2.98\n",
            "\n",
            "\n",
            "3-Itemset: {'DAIRY', 'DSD GROCERY', 'PRODUCE'}\n",
            "Support: 0.07\n",
            "Rule 56: {'DAIRY', 'DSD GROCERY'} -> {'PRODUCE'}\n",
            "Confidence: 0.58\n",
            "Lift: 2.98\n",
            "\n",
            "\n",
            "3-Itemset: {'DAIRY', 'DSD GROCERY', 'PRODUCE'}\n",
            "Support: 0.07\n",
            "Rule 57: {'DAIRY', 'PRODUCE'} -> {'DSD GROCERY'}\n",
            "Confidence: 0.72\n",
            "Lift: 2.35\n",
            "\n",
            "\n",
            "3-Itemset: {'DAIRY', 'DSD GROCERY', 'PRODUCE'}\n",
            "Support: 0.07\n",
            "Rule 58: {'DSD GROCERY', 'PRODUCE'} -> {'DAIRY'}\n",
            "Confidence: 0.66\n",
            "Lift: 3.43\n",
            "\n",
            "\n",
            "3-Itemset: {'DAIRY', 'PRODUCE', 'GROCERY DRY GOODS'}\n",
            "Support: 0.07\n",
            "Rule 59: {'DAIRY'} -> {'PRODUCE', 'GROCERY DRY GOODS'}\n",
            "Confidence: 0.37\n",
            "Lift: 3.6\n",
            "\n",
            "\n",
            "3-Itemset: {'DAIRY', 'PRODUCE', 'GROCERY DRY GOODS'}\n",
            "Support: 0.07\n",
            "Rule 60: {'GROCERY DRY GOODS'} -> {'DAIRY', 'PRODUCE'}\n",
            "Confidence: 0.33\n",
            "Lift: 3.37\n",
            "\n",
            "\n",
            "3-Itemset: {'DAIRY', 'PRODUCE', 'GROCERY DRY GOODS'}\n",
            "Support: 0.07\n",
            "Rule 61: {'PRODUCE'} -> {'DAIRY', 'GROCERY DRY GOODS'}\n",
            "Confidence: 0.37\n",
            "Lift: 3.17\n",
            "\n",
            "\n",
            "3-Itemset: {'DAIRY', 'PRODUCE', 'GROCERY DRY GOODS'}\n",
            "Support: 0.07\n",
            "Rule 62: {'DAIRY', 'GROCERY DRY GOODS'} -> {'PRODUCE'}\n",
            "Confidence: 0.61\n",
            "Lift: 3.17\n",
            "\n",
            "\n",
            "3-Itemset: {'DAIRY', 'PRODUCE', 'GROCERY DRY GOODS'}\n",
            "Support: 0.07\n",
            "Rule 63: {'DAIRY', 'PRODUCE'} -> {'GROCERY DRY GOODS'}\n",
            "Confidence: 0.73\n",
            "Lift: 3.37\n",
            "\n",
            "\n",
            "3-Itemset: {'DAIRY', 'PRODUCE', 'GROCERY DRY GOODS'}\n",
            "Support: 0.07\n",
            "Rule 64: {'PRODUCE', 'GROCERY DRY GOODS'} -> {'DAIRY'}\n",
            "Confidence: 0.69\n",
            "Lift: 3.6\n",
            "\n",
            "\n",
            "3-Itemset: {'DSD GROCERY', 'PRODUCE', 'GROCERY DRY GOODS'}\n",
            "Support: 0.07\n",
            "Rule 65: {'DSD GROCERY'} -> {'PRODUCE', 'GROCERY DRY GOODS'}\n",
            "Confidence: 0.24\n",
            "Lift: 2.29\n",
            "\n",
            "\n",
            "3-Itemset: {'DSD GROCERY', 'PRODUCE', 'GROCERY DRY GOODS'}\n",
            "Support: 0.07\n",
            "Rule 66: {'GROCERY DRY GOODS'} -> {'DSD GROCERY', 'PRODUCE'}\n",
            "Confidence: 0.33\n",
            "Lift: 3.13\n",
            "\n",
            "\n",
            "3-Itemset: {'DSD GROCERY', 'PRODUCE', 'GROCERY DRY GOODS'}\n",
            "Support: 0.07\n",
            "Rule 67: {'PRODUCE'} -> {'DSD GROCERY', 'GROCERY DRY GOODS'}\n",
            "Confidence: 0.38\n",
            "Lift: 2.88\n",
            "\n",
            "\n",
            "3-Itemset: {'DSD GROCERY', 'PRODUCE', 'GROCERY DRY GOODS'}\n",
            "Support: 0.07\n",
            "Rule 68: {'DSD GROCERY', 'GROCERY DRY GOODS'} -> {'PRODUCE'}\n",
            "Confidence: 0.56\n",
            "Lift: 2.88\n",
            "\n",
            "\n",
            "3-Itemset: {'DSD GROCERY', 'PRODUCE', 'GROCERY DRY GOODS'}\n",
            "Support: 0.07\n",
            "Rule 69: {'DSD GROCERY', 'PRODUCE'} -> {'GROCERY DRY GOODS'}\n",
            "Confidence: 0.68\n",
            "Lift: 3.13\n",
            "\n",
            "\n",
            "3-Itemset: {'DSD GROCERY', 'PRODUCE', 'GROCERY DRY GOODS'}\n",
            "Support: 0.07\n",
            "Rule 70: {'PRODUCE', 'GROCERY DRY GOODS'} -> {'DSD GROCERY'}\n",
            "Confidence: 0.7\n",
            "Lift: 2.29\n",
            "\n",
            "\n"
          ]
        }
      ]
    },
    {
      "cell_type": "markdown",
      "source": [
        "## 2-C. Description"
      ],
      "metadata": {
        "id": "nrfTFwZJR8K7"
      }
    },
    {
      "cell_type": "markdown",
      "source": [
        "In this dataset, when inserting the values of 0.06, 0.19, and 1.01 into paramaters min_support, min_confidence, and min_lift we get a total of 70 rules.\n",
        "In order to return the specified K-Itemset required by the assignment we had to heavily decrease the values of our min_support and min_confidence but maintain a lift of at least 1.01 to still return positive corrilations. The 70 rules were made-up of (40) 2-Itemsets and (30) 3-Itemsets. With that said, this obviously led us to return many sets of unions due to our loose-set paramaters. Some intresting patterns that our rules displayed were; unhealthy items were usually purchased with other unhealthy items, groceries were purchased with more groceries together, and medical purchases came with personal health purchases.\n",
        "\n",
        "Rules such as; \n",
        "\n",
        "*   COOKIES -> TOBACCO\n",
        "*   COOKIES -> CANDY\n",
        "*   PERSONAL CARE -> PHARMACY OTC\n",
        "*   PRODUCE -> GROCERY DRY GOODS\n"
      ],
      "metadata": {
        "id": "u32oRH0YCDtg"
      }
    },
    {
      "cell_type": "markdown",
      "source": [
        "#Task III: Apriori - Part 2"
      ],
      "metadata": {
        "id": "hnqzJbzeQjxJ"
      }
    },
    {
      "cell_type": "markdown",
      "source": [
        "##3-A. Apriori()"
      ],
      "metadata": {
        "id": "UbTutNFjSR0K"
      }
    },
    {
      "cell_type": "code",
      "source": [
        "association_rules = apriori(walmart_baskets,min_support=0.06,min_confidence=0.7,min_lift=1.01)\n",
        "\n",
        "association_results = list(association_rules)\n",
        "\n",
        "association_results"
      ],
      "metadata": {
        "colab": {
          "base_uri": "https://localhost:8080/"
        },
        "id": "TxqqoQ0sCQaS",
        "outputId": "296d9a90-816b-437b-e592-3d0e12c905b0"
      },
      "execution_count": null,
      "outputs": [
        {
          "output_type": "execute_result",
          "data": {
            "text/plain": [
              "[RelationRecord(items=frozenset({' COOKIES', ' TOBACCO'}), support=0.07, ordered_statistics=[OrderedStatistic(items_base=frozenset({' COOKIES'}), items_add=frozenset({' TOBACCO'}), confidence=1.0, lift=14.285714285714285), OrderedStatistic(items_base=frozenset({' TOBACCO'}), items_add=frozenset({' COOKIES'}), confidence=1.0, lift=14.285714285714285)]),\n",
              " RelationRecord(items=frozenset({' COOKIES', 'CANDY'}), support=0.07, ordered_statistics=[OrderedStatistic(items_base=frozenset({' COOKIES'}), items_add=frozenset({'CANDY'}), confidence=1.0, lift=14.285714285714285), OrderedStatistic(items_base=frozenset({'CANDY'}), items_add=frozenset({' COOKIES'}), confidence=1.0, lift=14.285714285714285)]),\n",
              " RelationRecord(items=frozenset({' TOBACCO', 'CANDY'}), support=0.07, ordered_statistics=[OrderedStatistic(items_base=frozenset({' TOBACCO'}), items_add=frozenset({'CANDY'}), confidence=1.0, lift=14.285714285714285), OrderedStatistic(items_base=frozenset({'CANDY'}), items_add=frozenset({' TOBACCO'}), confidence=1.0, lift=14.285714285714285)]),\n",
              " RelationRecord(items=frozenset({'DSD GROCERY', 'COMM BREAD'}), support=0.0735, ordered_statistics=[OrderedStatistic(items_base=frozenset({'COMM BREAD'}), items_add=frozenset({'DSD GROCERY'}), confidence=0.7, lift=2.287581699346405)]),\n",
              " RelationRecord(items=frozenset({'GROCERY DRY GOODS', 'COMM BREAD'}), support=0.0765, ordered_statistics=[OrderedStatistic(items_base=frozenset({'COMM BREAD'}), items_add=frozenset({'GROCERY DRY GOODS'}), confidence=0.7285714285714285, lift=3.3652259980204553)]),\n",
              " RelationRecord(items=frozenset({'FROZEN FOODS', 'DSD GROCERY'}), support=0.0725, ordered_statistics=[OrderedStatistic(items_base=frozenset({'FROZEN FOODS'}), items_add=frozenset({'DSD GROCERY'}), confidence=0.7142857142857142, lift=2.334267040149393)]),\n",
              " RelationRecord(items=frozenset({' COOKIES', ' TOBACCO', 'CANDY'}), support=0.07, ordered_statistics=[OrderedStatistic(items_base=frozenset({' COOKIES'}), items_add=frozenset({' TOBACCO', 'CANDY'}), confidence=1.0, lift=14.285714285714285), OrderedStatistic(items_base=frozenset({' TOBACCO'}), items_add=frozenset({' COOKIES', 'CANDY'}), confidence=1.0, lift=14.285714285714285), OrderedStatistic(items_base=frozenset({'CANDY'}), items_add=frozenset({' COOKIES', ' TOBACCO'}), confidence=1.0, lift=14.285714285714285), OrderedStatistic(items_base=frozenset({' COOKIES', ' TOBACCO'}), items_add=frozenset({'CANDY'}), confidence=1.0, lift=14.285714285714285), OrderedStatistic(items_base=frozenset({' COOKIES', 'CANDY'}), items_add=frozenset({' TOBACCO'}), confidence=1.0, lift=14.285714285714285), OrderedStatistic(items_base=frozenset({' TOBACCO', 'CANDY'}), items_add=frozenset({' COOKIES'}), confidence=1.0, lift=14.285714285714285)]),\n",
              " RelationRecord(items=frozenset({'DAIRY', 'DSD GROCERY', 'GROCERY DRY GOODS'}), support=0.09, ordered_statistics=[OrderedStatistic(items_base=frozenset({'DAIRY', 'DSD GROCERY'}), items_add=frozenset({'GROCERY DRY GOODS'}), confidence=0.7346938775510204, lift=3.3935052080878543), OrderedStatistic(items_base=frozenset({'DAIRY', 'GROCERY DRY GOODS'}), items_add=frozenset({'DSD GROCERY'}), confidence=0.7692307692307692, lift=2.513826043237808)]),\n",
              " RelationRecord(items=frozenset({'DAIRY', 'DSD GROCERY', 'PRODUCE'}), support=0.0705, ordered_statistics=[OrderedStatistic(items_base=frozenset({'DAIRY', 'PRODUCE'}), items_add=frozenset({'DSD GROCERY'}), confidence=0.7193877551020407, lift=2.3509403761504597)]),\n",
              " RelationRecord(items=frozenset({'DAIRY', 'PRODUCE', 'GROCERY DRY GOODS'}), support=0.0715, ordered_statistics=[OrderedStatistic(items_base=frozenset({'DAIRY', 'PRODUCE'}), items_add=frozenset({'GROCERY DRY GOODS'}), confidence=0.7295918367346937, lift=3.3699391996983543)]),\n",
              " RelationRecord(items=frozenset({'DSD GROCERY', 'PRODUCE', 'GROCERY DRY GOODS'}), support=0.0725, ordered_statistics=[OrderedStatistic(items_base=frozenset({'PRODUCE', 'GROCERY DRY GOODS'}), items_add=frozenset({'DSD GROCERY'}), confidence=0.7004830917874396, lift=2.2891604306779074)])]"
            ]
          },
          "metadata": {},
          "execution_count": 48
        }
      ]
    },
    {
      "cell_type": "markdown",
      "source": [
        "##3-B. Parse()"
      ],
      "metadata": {
        "id": "sn194SJkSRrW"
      }
    },
    {
      "cell_type": "code",
      "source": [
        "association_rules = apriori(walmart_baskets,min_support=0.06,min_confidence=0.7,min_lift=1.01)\n",
        "\n",
        "parse(association_rules)"
      ],
      "metadata": {
        "colab": {
          "base_uri": "https://localhost:8080/"
        },
        "id": "ilzcXLFhDHco",
        "outputId": "58cc8ee9-86b3-4619-e96b-999df88ef4f6"
      },
      "execution_count": null,
      "outputs": [
        {
          "output_type": "stream",
          "name": "stdout",
          "text": [
            "2-Itemset: {' COOKIES', ' TOBACCO'}\n",
            "Support: 0.07\n",
            "Rule 1: {' COOKIES'} -> {' TOBACCO'}\n",
            "Confidence: 1.0\n",
            "Lift: 14.29\n",
            "\n",
            "\n",
            "2-Itemset: {' COOKIES', ' TOBACCO'}\n",
            "Support: 0.07\n",
            "Rule 2: {' TOBACCO'} -> {' COOKIES'}\n",
            "Confidence: 1.0\n",
            "Lift: 14.29\n",
            "\n",
            "\n",
            "2-Itemset: {' COOKIES', 'CANDY'}\n",
            "Support: 0.07\n",
            "Rule 3: {' COOKIES'} -> {'CANDY'}\n",
            "Confidence: 1.0\n",
            "Lift: 14.29\n",
            "\n",
            "\n",
            "2-Itemset: {' COOKIES', 'CANDY'}\n",
            "Support: 0.07\n",
            "Rule 4: {'CANDY'} -> {' COOKIES'}\n",
            "Confidence: 1.0\n",
            "Lift: 14.29\n",
            "\n",
            "\n",
            "2-Itemset: {' TOBACCO', 'CANDY'}\n",
            "Support: 0.07\n",
            "Rule 5: {' TOBACCO'} -> {'CANDY'}\n",
            "Confidence: 1.0\n",
            "Lift: 14.29\n",
            "\n",
            "\n",
            "2-Itemset: {' TOBACCO', 'CANDY'}\n",
            "Support: 0.07\n",
            "Rule 6: {'CANDY'} -> {' TOBACCO'}\n",
            "Confidence: 1.0\n",
            "Lift: 14.29\n",
            "\n",
            "\n",
            "2-Itemset: {'DSD GROCERY', 'COMM BREAD'}\n",
            "Support: 0.07\n",
            "Rule 7: {'COMM BREAD'} -> {'DSD GROCERY'}\n",
            "Confidence: 0.7\n",
            "Lift: 2.29\n",
            "\n",
            "\n",
            "2-Itemset: {'GROCERY DRY GOODS', 'COMM BREAD'}\n",
            "Support: 0.08\n",
            "Rule 8: {'COMM BREAD'} -> {'GROCERY DRY GOODS'}\n",
            "Confidence: 0.73\n",
            "Lift: 3.37\n",
            "\n",
            "\n",
            "2-Itemset: {'FROZEN FOODS', 'DSD GROCERY'}\n",
            "Support: 0.07\n",
            "Rule 9: {'FROZEN FOODS'} -> {'DSD GROCERY'}\n",
            "Confidence: 0.71\n",
            "Lift: 2.33\n",
            "\n",
            "\n",
            "3-Itemset: {' COOKIES', ' TOBACCO', 'CANDY'}\n",
            "Support: 0.07\n",
            "Rule 10: {' COOKIES'} -> {' TOBACCO', 'CANDY'}\n",
            "Confidence: 1.0\n",
            "Lift: 14.29\n",
            "\n",
            "\n",
            "3-Itemset: {' COOKIES', ' TOBACCO', 'CANDY'}\n",
            "Support: 0.07\n",
            "Rule 11: {' TOBACCO'} -> {' COOKIES', 'CANDY'}\n",
            "Confidence: 1.0\n",
            "Lift: 14.29\n",
            "\n",
            "\n",
            "3-Itemset: {' COOKIES', ' TOBACCO', 'CANDY'}\n",
            "Support: 0.07\n",
            "Rule 12: {'CANDY'} -> {' COOKIES', ' TOBACCO'}\n",
            "Confidence: 1.0\n",
            "Lift: 14.29\n",
            "\n",
            "\n",
            "3-Itemset: {' COOKIES', ' TOBACCO', 'CANDY'}\n",
            "Support: 0.07\n",
            "Rule 13: {' COOKIES', ' TOBACCO'} -> {'CANDY'}\n",
            "Confidence: 1.0\n",
            "Lift: 14.29\n",
            "\n",
            "\n",
            "3-Itemset: {' COOKIES', ' TOBACCO', 'CANDY'}\n",
            "Support: 0.07\n",
            "Rule 14: {' COOKIES', 'CANDY'} -> {' TOBACCO'}\n",
            "Confidence: 1.0\n",
            "Lift: 14.29\n",
            "\n",
            "\n",
            "3-Itemset: {' COOKIES', ' TOBACCO', 'CANDY'}\n",
            "Support: 0.07\n",
            "Rule 15: {' TOBACCO', 'CANDY'} -> {' COOKIES'}\n",
            "Confidence: 1.0\n",
            "Lift: 14.29\n",
            "\n",
            "\n",
            "3-Itemset: {'DAIRY', 'DSD GROCERY', 'GROCERY DRY GOODS'}\n",
            "Support: 0.09\n",
            "Rule 16: {'DAIRY', 'DSD GROCERY'} -> {'GROCERY DRY GOODS'}\n",
            "Confidence: 0.73\n",
            "Lift: 3.39\n",
            "\n",
            "\n",
            "3-Itemset: {'DAIRY', 'DSD GROCERY', 'GROCERY DRY GOODS'}\n",
            "Support: 0.09\n",
            "Rule 17: {'DAIRY', 'GROCERY DRY GOODS'} -> {'DSD GROCERY'}\n",
            "Confidence: 0.77\n",
            "Lift: 2.51\n",
            "\n",
            "\n",
            "3-Itemset: {'DAIRY', 'DSD GROCERY', 'PRODUCE'}\n",
            "Support: 0.07\n",
            "Rule 18: {'DAIRY', 'PRODUCE'} -> {'DSD GROCERY'}\n",
            "Confidence: 0.72\n",
            "Lift: 2.35\n",
            "\n",
            "\n",
            "3-Itemset: {'DAIRY', 'PRODUCE', 'GROCERY DRY GOODS'}\n",
            "Support: 0.07\n",
            "Rule 19: {'DAIRY', 'PRODUCE'} -> {'GROCERY DRY GOODS'}\n",
            "Confidence: 0.73\n",
            "Lift: 3.37\n",
            "\n",
            "\n",
            "3-Itemset: {'DSD GROCERY', 'PRODUCE', 'GROCERY DRY GOODS'}\n",
            "Support: 0.07\n",
            "Rule 20: {'PRODUCE', 'GROCERY DRY GOODS'} -> {'DSD GROCERY'}\n",
            "Confidence: 0.7\n",
            "Lift: 2.29\n",
            "\n",
            "\n"
          ]
        }
      ]
    },
    {
      "cell_type": "markdown",
      "source": [
        "##3-C. Description"
      ],
      "metadata": {
        "id": "0p1bj9muSRgf"
      }
    },
    {
      "cell_type": "markdown",
      "source": [
        "In this dataset, when inserting the values of 0.06, 0.7, and 1.01 into paramaters min_support, min_confidence, and min_lift we get a total of 20 rules.\n",
        "In order to return the specified K-Itemset required by the assignment we had to increase the value of our min_confidence but maintain a lift of at least 1.01 to still return positive corrilations. The 20 rules were made-up of (9) 2-Itemsets and (11) 3-Itemsets. With that said, this led us to return only some sets of unions rules due to our tighter-set paramaters. Some intresting patterns that our rules displayed were; unhealthy items were now usually leading to more than one purchase of other unhealthy items, groceries purchases lead to multiple purchases of more groceries.\n",
        "\n",
        "Rules such as; \n",
        "\n",
        "*   TOBACCO -> COOKIES, CANDY\n",
        "*   COOKIES -> CANDY\n",
        "*   DAIRY, GROCERY DRY GOODS -> DSD GROCERY\n",
        "*   PRODUCE -> GROCERY DRY GOODS\n"
      ],
      "metadata": {
        "id": "ukcRuR8pDa4D"
      }
    },
    {
      "cell_type": "markdown",
      "source": [
        "#Task IV: Apriori - Part 3"
      ],
      "metadata": {
        "id": "PNfV7sAlQj6d"
      }
    },
    {
      "cell_type": "markdown",
      "source": [
        "##4-A. Apriori()"
      ],
      "metadata": {
        "id": "G20LrOHuSTZm"
      }
    },
    {
      "cell_type": "code",
      "source": [
        "association_rules = apriori(walmart_baskets,min_support=0.06,min_confidence=0.19,min_lift=3.15)\n",
        "\n",
        "association_results = list(association_rules)\n",
        "\n",
        "association_results"
      ],
      "metadata": {
        "colab": {
          "base_uri": "https://localhost:8080/"
        },
        "id": "5TXzdcSWDvSH",
        "outputId": "a12427af-1f1a-4037-d336-563c3d9b97bf"
      },
      "execution_count": null,
      "outputs": [
        {
          "output_type": "execute_result",
          "data": {
            "text/plain": [
              "[RelationRecord(items=frozenset({' COOKIES', ' TOBACCO'}), support=0.07, ordered_statistics=[OrderedStatistic(items_base=frozenset({' COOKIES'}), items_add=frozenset({' TOBACCO'}), confidence=1.0, lift=14.285714285714285), OrderedStatistic(items_base=frozenset({' TOBACCO'}), items_add=frozenset({' COOKIES'}), confidence=1.0, lift=14.285714285714285)]),\n",
              " RelationRecord(items=frozenset({' COOKIES', 'CANDY'}), support=0.07, ordered_statistics=[OrderedStatistic(items_base=frozenset({' COOKIES'}), items_add=frozenset({'CANDY'}), confidence=1.0, lift=14.285714285714285), OrderedStatistic(items_base=frozenset({'CANDY'}), items_add=frozenset({' COOKIES'}), confidence=1.0, lift=14.285714285714285)]),\n",
              " RelationRecord(items=frozenset({' TOBACCO', 'CANDY'}), support=0.07, ordered_statistics=[OrderedStatistic(items_base=frozenset({' TOBACCO'}), items_add=frozenset({'CANDY'}), confidence=1.0, lift=14.285714285714285), OrderedStatistic(items_base=frozenset({'CANDY'}), items_add=frozenset({' TOBACCO'}), confidence=1.0, lift=14.285714285714285)]),\n",
              " RelationRecord(items=frozenset({'DAIRY', 'COMM BREAD'}), support=0.065, ordered_statistics=[OrderedStatistic(items_base=frozenset({'COMM BREAD'}), items_add=frozenset({'DAIRY'}), confidence=0.6190476190476191, lift=3.2242063492063493), OrderedStatistic(items_base=frozenset({'DAIRY'}), items_add=frozenset({'COMM BREAD'}), confidence=0.3385416666666667, lift=3.2242063492063493)]),\n",
              " RelationRecord(items=frozenset({'GROCERY DRY GOODS', 'COMM BREAD'}), support=0.0765, ordered_statistics=[OrderedStatistic(items_base=frozenset({'COMM BREAD'}), items_add=frozenset({'GROCERY DRY GOODS'}), confidence=0.7285714285714285, lift=3.3652259980204553), OrderedStatistic(items_base=frozenset({'GROCERY DRY GOODS'}), items_add=frozenset({'COMM BREAD'}), confidence=0.3533487297921478, lift=3.3652259980204557)]),\n",
              " RelationRecord(items=frozenset({'DAIRY', 'FROZEN FOODS'}), support=0.062, ordered_statistics=[OrderedStatistic(items_base=frozenset({'DAIRY'}), items_add=frozenset({'FROZEN FOODS'}), confidence=0.3229166666666667, lift=3.1814449917898195), OrderedStatistic(items_base=frozenset({'FROZEN FOODS'}), items_add=frozenset({'DAIRY'}), confidence=0.6108374384236452, lift=3.181444991789819)]),\n",
              " RelationRecord(items=frozenset({' COOKIES', ' TOBACCO', 'CANDY'}), support=0.07, ordered_statistics=[OrderedStatistic(items_base=frozenset({' COOKIES'}), items_add=frozenset({' TOBACCO', 'CANDY'}), confidence=1.0, lift=14.285714285714285), OrderedStatistic(items_base=frozenset({' TOBACCO'}), items_add=frozenset({' COOKIES', 'CANDY'}), confidence=1.0, lift=14.285714285714285), OrderedStatistic(items_base=frozenset({'CANDY'}), items_add=frozenset({' COOKIES', ' TOBACCO'}), confidence=1.0, lift=14.285714285714285), OrderedStatistic(items_base=frozenset({' COOKIES', ' TOBACCO'}), items_add=frozenset({'CANDY'}), confidence=1.0, lift=14.285714285714285), OrderedStatistic(items_base=frozenset({' COOKIES', 'CANDY'}), items_add=frozenset({' TOBACCO'}), confidence=1.0, lift=14.285714285714285), OrderedStatistic(items_base=frozenset({' TOBACCO', 'CANDY'}), items_add=frozenset({' COOKIES'}), confidence=1.0, lift=14.285714285714285)]),\n",
              " RelationRecord(items=frozenset({'DAIRY', 'DSD GROCERY', 'GROCERY DRY GOODS'}), support=0.09, ordered_statistics=[OrderedStatistic(items_base=frozenset({'DAIRY'}), items_add=frozenset({'DSD GROCERY', 'GROCERY DRY GOODS'}), confidence=0.46875, lift=3.5919540229885056), OrderedStatistic(items_base=frozenset({'GROCERY DRY GOODS'}), items_add=frozenset({'DAIRY', 'DSD GROCERY'}), confidence=0.4157043879907621, lift=3.393505208087854), OrderedStatistic(items_base=frozenset({'DAIRY', 'DSD GROCERY'}), items_add=frozenset({'GROCERY DRY GOODS'}), confidence=0.7346938775510204, lift=3.3935052080878543), OrderedStatistic(items_base=frozenset({'DSD GROCERY', 'GROCERY DRY GOODS'}), items_add=frozenset({'DAIRY'}), confidence=0.689655172413793, lift=3.591954022988505)]),\n",
              " RelationRecord(items=frozenset({'DAIRY', 'DSD GROCERY', 'PRODUCE'}), support=0.0705, ordered_statistics=[OrderedStatistic(items_base=frozenset({'DAIRY'}), items_add=frozenset({'DSD GROCERY', 'PRODUCE'}), confidence=0.36718749999999994, lift=3.4316588785046727), OrderedStatistic(items_base=frozenset({'DSD GROCERY', 'PRODUCE'}), items_add=frozenset({'DAIRY'}), confidence=0.6588785046728971, lift=3.431658878504672)]),\n",
              " RelationRecord(items=frozenset({'DAIRY', 'PRODUCE', 'GROCERY DRY GOODS'}), support=0.0715, ordered_statistics=[OrderedStatistic(items_base=frozenset({'DAIRY'}), items_add=frozenset({'PRODUCE', 'GROCERY DRY GOODS'}), confidence=0.3723958333333333, lift=3.5980273752012883), OrderedStatistic(items_base=frozenset({'GROCERY DRY GOODS'}), items_add=frozenset({'DAIRY', 'PRODUCE'}), confidence=0.33025404157043875, lift=3.3699391996983543), OrderedStatistic(items_base=frozenset({'PRODUCE'}), items_add=frozenset({'DAIRY', 'GROCERY DRY GOODS'}), confidence=0.3704663212435233, lift=3.1663788140472073), OrderedStatistic(items_base=frozenset({'DAIRY', 'GROCERY DRY GOODS'}), items_add=frozenset({'PRODUCE'}), confidence=0.611111111111111, lift=3.1663788140472073), OrderedStatistic(items_base=frozenset({'DAIRY', 'PRODUCE'}), items_add=frozenset({'GROCERY DRY GOODS'}), confidence=0.7295918367346937, lift=3.3699391996983543), OrderedStatistic(items_base=frozenset({'PRODUCE', 'GROCERY DRY GOODS'}), items_add=frozenset({'DAIRY'}), confidence=0.6908212560386473, lift=3.598027375201288)])]"
            ]
          },
          "metadata": {},
          "execution_count": 67
        }
      ]
    },
    {
      "cell_type": "markdown",
      "source": [
        "##4-B. Parse()"
      ],
      "metadata": {
        "id": "W0Vbl8wqSTVJ"
      }
    },
    {
      "cell_type": "code",
      "source": [
        "association_rules = apriori(walmart_baskets,min_support=0.06,min_confidence=0.19,min_lift=3.15)\n",
        "\n",
        "parse(association_rules)"
      ],
      "metadata": {
        "colab": {
          "base_uri": "https://localhost:8080/"
        },
        "id": "DVghbIr3D0Q5",
        "outputId": "4ad2ea8a-4537-472b-cb57-7df421693a2e"
      },
      "execution_count": null,
      "outputs": [
        {
          "output_type": "stream",
          "name": "stdout",
          "text": [
            "2-Itemset: {' COOKIES', ' TOBACCO'}\n",
            "Support: 0.07\n",
            "Rule 1: {' COOKIES'} -> {' TOBACCO'}\n",
            "Confidence: 1.0\n",
            "Lift: 14.29\n",
            "\n",
            "\n",
            "2-Itemset: {' COOKIES', ' TOBACCO'}\n",
            "Support: 0.07\n",
            "Rule 2: {' TOBACCO'} -> {' COOKIES'}\n",
            "Confidence: 1.0\n",
            "Lift: 14.29\n",
            "\n",
            "\n",
            "2-Itemset: {' COOKIES', 'CANDY'}\n",
            "Support: 0.07\n",
            "Rule 3: {' COOKIES'} -> {'CANDY'}\n",
            "Confidence: 1.0\n",
            "Lift: 14.29\n",
            "\n",
            "\n",
            "2-Itemset: {' COOKIES', 'CANDY'}\n",
            "Support: 0.07\n",
            "Rule 4: {'CANDY'} -> {' COOKIES'}\n",
            "Confidence: 1.0\n",
            "Lift: 14.29\n",
            "\n",
            "\n",
            "2-Itemset: {' TOBACCO', 'CANDY'}\n",
            "Support: 0.07\n",
            "Rule 5: {' TOBACCO'} -> {'CANDY'}\n",
            "Confidence: 1.0\n",
            "Lift: 14.29\n",
            "\n",
            "\n",
            "2-Itemset: {' TOBACCO', 'CANDY'}\n",
            "Support: 0.07\n",
            "Rule 6: {'CANDY'} -> {' TOBACCO'}\n",
            "Confidence: 1.0\n",
            "Lift: 14.29\n",
            "\n",
            "\n",
            "2-Itemset: {'DAIRY', 'COMM BREAD'}\n",
            "Support: 0.07\n",
            "Rule 7: {'COMM BREAD'} -> {'DAIRY'}\n",
            "Confidence: 0.62\n",
            "Lift: 3.22\n",
            "\n",
            "\n",
            "2-Itemset: {'DAIRY', 'COMM BREAD'}\n",
            "Support: 0.07\n",
            "Rule 8: {'DAIRY'} -> {'COMM BREAD'}\n",
            "Confidence: 0.34\n",
            "Lift: 3.22\n",
            "\n",
            "\n",
            "2-Itemset: {'GROCERY DRY GOODS', 'COMM BREAD'}\n",
            "Support: 0.08\n",
            "Rule 9: {'COMM BREAD'} -> {'GROCERY DRY GOODS'}\n",
            "Confidence: 0.73\n",
            "Lift: 3.37\n",
            "\n",
            "\n",
            "2-Itemset: {'GROCERY DRY GOODS', 'COMM BREAD'}\n",
            "Support: 0.08\n",
            "Rule 10: {'GROCERY DRY GOODS'} -> {'COMM BREAD'}\n",
            "Confidence: 0.35\n",
            "Lift: 3.37\n",
            "\n",
            "\n",
            "2-Itemset: {'DAIRY', 'FROZEN FOODS'}\n",
            "Support: 0.06\n",
            "Rule 11: {'DAIRY'} -> {'FROZEN FOODS'}\n",
            "Confidence: 0.32\n",
            "Lift: 3.18\n",
            "\n",
            "\n",
            "2-Itemset: {'DAIRY', 'FROZEN FOODS'}\n",
            "Support: 0.06\n",
            "Rule 12: {'FROZEN FOODS'} -> {'DAIRY'}\n",
            "Confidence: 0.61\n",
            "Lift: 3.18\n",
            "\n",
            "\n",
            "3-Itemset: {' COOKIES', ' TOBACCO', 'CANDY'}\n",
            "Support: 0.07\n",
            "Rule 13: {' COOKIES'} -> {' TOBACCO', 'CANDY'}\n",
            "Confidence: 1.0\n",
            "Lift: 14.29\n",
            "\n",
            "\n",
            "3-Itemset: {' COOKIES', ' TOBACCO', 'CANDY'}\n",
            "Support: 0.07\n",
            "Rule 14: {' TOBACCO'} -> {' COOKIES', 'CANDY'}\n",
            "Confidence: 1.0\n",
            "Lift: 14.29\n",
            "\n",
            "\n",
            "3-Itemset: {' COOKIES', ' TOBACCO', 'CANDY'}\n",
            "Support: 0.07\n",
            "Rule 15: {'CANDY'} -> {' COOKIES', ' TOBACCO'}\n",
            "Confidence: 1.0\n",
            "Lift: 14.29\n",
            "\n",
            "\n",
            "3-Itemset: {' COOKIES', ' TOBACCO', 'CANDY'}\n",
            "Support: 0.07\n",
            "Rule 16: {' COOKIES', ' TOBACCO'} -> {'CANDY'}\n",
            "Confidence: 1.0\n",
            "Lift: 14.29\n",
            "\n",
            "\n",
            "3-Itemset: {' COOKIES', ' TOBACCO', 'CANDY'}\n",
            "Support: 0.07\n",
            "Rule 17: {' COOKIES', 'CANDY'} -> {' TOBACCO'}\n",
            "Confidence: 1.0\n",
            "Lift: 14.29\n",
            "\n",
            "\n",
            "3-Itemset: {' COOKIES', ' TOBACCO', 'CANDY'}\n",
            "Support: 0.07\n",
            "Rule 18: {' TOBACCO', 'CANDY'} -> {' COOKIES'}\n",
            "Confidence: 1.0\n",
            "Lift: 14.29\n",
            "\n",
            "\n",
            "3-Itemset: {'DAIRY', 'DSD GROCERY', 'GROCERY DRY GOODS'}\n",
            "Support: 0.09\n",
            "Rule 19: {'DAIRY'} -> {'DSD GROCERY', 'GROCERY DRY GOODS'}\n",
            "Confidence: 0.47\n",
            "Lift: 3.59\n",
            "\n",
            "\n",
            "3-Itemset: {'DAIRY', 'DSD GROCERY', 'GROCERY DRY GOODS'}\n",
            "Support: 0.09\n",
            "Rule 20: {'GROCERY DRY GOODS'} -> {'DAIRY', 'DSD GROCERY'}\n",
            "Confidence: 0.42\n",
            "Lift: 3.39\n",
            "\n",
            "\n",
            "3-Itemset: {'DAIRY', 'DSD GROCERY', 'GROCERY DRY GOODS'}\n",
            "Support: 0.09\n",
            "Rule 21: {'DAIRY', 'DSD GROCERY'} -> {'GROCERY DRY GOODS'}\n",
            "Confidence: 0.73\n",
            "Lift: 3.39\n",
            "\n",
            "\n",
            "3-Itemset: {'DAIRY', 'DSD GROCERY', 'GROCERY DRY GOODS'}\n",
            "Support: 0.09\n",
            "Rule 22: {'DSD GROCERY', 'GROCERY DRY GOODS'} -> {'DAIRY'}\n",
            "Confidence: 0.69\n",
            "Lift: 3.59\n",
            "\n",
            "\n",
            "3-Itemset: {'DAIRY', 'DSD GROCERY', 'PRODUCE'}\n",
            "Support: 0.07\n",
            "Rule 23: {'DAIRY'} -> {'DSD GROCERY', 'PRODUCE'}\n",
            "Confidence: 0.37\n",
            "Lift: 3.43\n",
            "\n",
            "\n",
            "3-Itemset: {'DAIRY', 'DSD GROCERY', 'PRODUCE'}\n",
            "Support: 0.07\n",
            "Rule 24: {'DSD GROCERY', 'PRODUCE'} -> {'DAIRY'}\n",
            "Confidence: 0.66\n",
            "Lift: 3.43\n",
            "\n",
            "\n",
            "3-Itemset: {'DAIRY', 'PRODUCE', 'GROCERY DRY GOODS'}\n",
            "Support: 0.07\n",
            "Rule 25: {'DAIRY'} -> {'PRODUCE', 'GROCERY DRY GOODS'}\n",
            "Confidence: 0.37\n",
            "Lift: 3.6\n",
            "\n",
            "\n",
            "3-Itemset: {'DAIRY', 'PRODUCE', 'GROCERY DRY GOODS'}\n",
            "Support: 0.07\n",
            "Rule 26: {'GROCERY DRY GOODS'} -> {'DAIRY', 'PRODUCE'}\n",
            "Confidence: 0.33\n",
            "Lift: 3.37\n",
            "\n",
            "\n",
            "3-Itemset: {'DAIRY', 'PRODUCE', 'GROCERY DRY GOODS'}\n",
            "Support: 0.07\n",
            "Rule 27: {'PRODUCE'} -> {'DAIRY', 'GROCERY DRY GOODS'}\n",
            "Confidence: 0.37\n",
            "Lift: 3.17\n",
            "\n",
            "\n",
            "3-Itemset: {'DAIRY', 'PRODUCE', 'GROCERY DRY GOODS'}\n",
            "Support: 0.07\n",
            "Rule 28: {'DAIRY', 'GROCERY DRY GOODS'} -> {'PRODUCE'}\n",
            "Confidence: 0.61\n",
            "Lift: 3.17\n",
            "\n",
            "\n",
            "3-Itemset: {'DAIRY', 'PRODUCE', 'GROCERY DRY GOODS'}\n",
            "Support: 0.07\n",
            "Rule 29: {'DAIRY', 'PRODUCE'} -> {'GROCERY DRY GOODS'}\n",
            "Confidence: 0.73\n",
            "Lift: 3.37\n",
            "\n",
            "\n",
            "3-Itemset: {'DAIRY', 'PRODUCE', 'GROCERY DRY GOODS'}\n",
            "Support: 0.07\n",
            "Rule 30: {'PRODUCE', 'GROCERY DRY GOODS'} -> {'DAIRY'}\n",
            "Confidence: 0.69\n",
            "Lift: 3.6\n",
            "\n",
            "\n"
          ]
        }
      ]
    },
    {
      "cell_type": "markdown",
      "source": [
        "##4-C. Description"
      ],
      "metadata": {
        "id": "FLxzWK7mSTI1"
      }
    },
    {
      "cell_type": "markdown",
      "source": [
        "In this dataset, when inserting the values of 0.06, 0.19, and 3.15 into paramaters min_support, min_confidence, and min_lift we get a total of 30 rules.\n",
        "In order to return the specified K-Itemset required by the assignment we had to increase the value of our min_lift to 3.15. This adjustment created many more rules unlike prior adjustmnets. The 30 rules were made-up of (12) 2-Itemsets and (18) 3-Itemsets. With that said, this led us to return a few more union sets than our last run due to the modification of our minimum lift threshold paramater. Genrally the same patterns were displayed. One thing I noticed was that Dairy seemed to now have a much stronger standing in leading to other grocery purchases. Other than that, increasing this paramater seemed to increase the amount of rules with multiple purchases leading to one more purchase.\n",
        "\n",
        "Rules such as; \n",
        "\n",
        "*   TOBACCO'} -> {' COOKIES', 'CANDY\n",
        "*   DAIRY, GROCERY DRY GOODS -> PRODUCE\n",
        "*   DAIRY, PRODUCE -> GROCERY DRY GOODS\n",
        "*   DAIRY -> PRODUCE GROCERY DRY GOODS\n"
      ],
      "metadata": {
        "id": "F_iW-E2zG39z"
      }
    },
    {
      "cell_type": "markdown",
      "source": [
        "#Task V: IPYNB and HTML Files"
      ],
      "metadata": {
        "id": "56BNq-SSQkMo"
      }
    },
    {
      "cell_type": "markdown",
      "source": [
        "## 5-A & B."
      ],
      "metadata": {
        "id": "JUOmJmXiSKvn"
      }
    },
    {
      "cell_type": "code",
      "source": [
        "%%shell\n",
        " jupyter nbconvert --to html Assignment10_Abed_Abdulrahman.ipynb"
      ],
      "metadata": {
        "id": "LHOUn6OjUrqg",
        "outputId": "c0975b61-52c2-4c26-827a-b70c3c61a074",
        "colab": {
          "base_uri": "https://localhost:8080/"
        }
      },
      "execution_count": null,
      "outputs": [
        {
          "output_type": "stream",
          "name": "stdout",
          "text": [
            "[NbConvertApp] Converting notebook Assignment10_Abed_Abdulrahman.ipynb to html\n",
            "[NbConvertApp] Writing 379667 bytes to Assignment10_Abed_Abdulrahman.html\n"
          ]
        },
        {
          "output_type": "execute_result",
          "data": {
            "text/plain": [
              ""
            ]
          },
          "metadata": {},
          "execution_count": 69
        }
      ]
    }
  ]
}